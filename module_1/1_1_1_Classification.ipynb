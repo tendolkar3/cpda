{
 "cells": [
  {
   "cell_type": "markdown",
   "metadata": {},
   "source": [
    "# Converting images to input features"
   ]
  },
  {
   "cell_type": "markdown",
   "metadata": {},
   "source": [
    "Lets explore how images are represented as inputs to a machine learning model. You probably know that each image is just a 2 dimensional matrix of pixels. Lets consider a black and white image. Each pixel is defined by a number between 0 to 255 which represents the darkness/brightness of pixel (0 is pure black, 255 is pure white). So for example, a 28x28 pixel black and white image is just a 28x28 matrix of numbers between 0 and 255. Lets see an example. We will use the [Fashion MNINST dataset](https://www.kaggle.com/zalando-research/fashionmnist) available on [Kaggle](https://www.kaggle.com/)"
   ]
  },
  {
   "cell_type": "code",
   "execution_count": 21,
   "metadata": {},
   "outputs": [],
   "source": [
    "# import csv module of python for reading a csv file\n",
    "import csv\n",
    "\n",
    "# the data on that link is represented as a csv file in which each row is an image\n",
    "# the images are black and white 28x28 pixel images of clothes\n",
    "# each image row is 785 cells long\n",
    "# the first cell in each row represents label (which type of clothing it is)\n",
    "# the remaining 784 cells (28x28) represent pixels, each with value between 0 and 255\n",
    "\n",
    "example_pixel_list = None\n",
    "\n",
    "with open('../data/fashionmnist/fashion-mnist_train.csv', newline='') as f:\n",
    "    reader = csv.reader(f)\n",
    "    row_count = 0\n",
    "    for row in reader:\n",
    "        if row_count==0:\n",
    "            # First row is a header (which contains column names), so we ignore it\n",
    "            row_count = row_count + 1\n",
    "            continue\n",
    "        example_pixel_list = row # get the second row as first image\n",
    "        print(row) # print the row\n",
    "        break\n",
    "f.close()"
   ]
  },
  {
   "cell_type": "markdown",
   "metadata": {},
   "source": [
    "Lets check the dimension of this row"
   ]
  },
  {
   "cell_type": "code",
   "execution_count": 43,
   "metadata": {},
   "outputs": [
    {
     "name": "stdout",
     "output_type": "stream",
     "text": [
      "785\n"
     ]
    }
   ],
   "source": [
    "length_of_example_pixel_list = len(example_pixel_list)\n",
    "print(length_of_example_pixel_list)"
   ]
  },
  {
   "cell_type": "markdown",
   "metadata": {},
   "source": [
    "### Pop quiz - \n",
    "\n",
    "Why the row contains 785 elements when image is 28x28 pixels and 28x28 = 784?"
   ]
  },
  {
   "cell_type": "markdown",
   "metadata": {},
   "source": [
    "Lets convert this single row into a 28x28 grid and plot the heatmap of values to visualize the image"
   ]
  },
  {
   "cell_type": "code",
   "execution_count": 39,
   "metadata": {},
   "outputs": [],
   "source": [
    "# NumPy is a linear algebra library for python. Python by default has only lists and no vector/matrix operations\n",
    "# Look at lists as grocery lists. They can contain any type of objects\n",
    "# You cant add, multiply, or take dot product of grocery lists\n",
    "# Numpy, using python lists and some extra code, gives a convinient way to represent vectors and operate on them\n",
    "\n",
    "import numpy as np\n",
    "example_pixel_map = np.zeros((28,28),dtype=np.float64) # initialize a 28x28 grid of 0s"
   ]
  },
  {
   "cell_type": "markdown",
   "metadata": {},
   "source": [
    "Now insert each element of list into corresponding cell in the grid/matrix"
   ]
  },
  {
   "cell_type": "code",
   "execution_count": 40,
   "metadata": {},
   "outputs": [],
   "source": [
    "# Make sure you understand how this was done\n",
    "# Remember that the first element of the 785 element row is the label\n",
    "# Then, if interested, find easier one line commands that can do the similar transformation\n",
    "\n",
    "for row_number in range(1,29): # Why 29?\n",
    "    for column_number in range(1,29):\n",
    "        example_pixel_map[row_number - 1][column_number - 1] = example_pixel_list[28*(row_number - 1) + (column_number - 1) + 1]"
   ]
  },
  {
   "cell_type": "markdown",
   "metadata": {},
   "source": [
    "Now lets draw the heatmap. You can see its a shirt!"
   ]
  },
  {
   "cell_type": "code",
   "execution_count": 41,
   "metadata": {},
   "outputs": [
    {
     "data": {
      "text/plain": [
       "<matplotlib.axes._subplots.AxesSubplot at 0x10d99da90>"
      ]
     },
     "execution_count": 41,
     "metadata": {},
     "output_type": "execute_result"
    },
    {
     "data": {
      "image/png": "[encoded data removed]",
      "text/plain": [
       "<matplotlib.figure.Figure at 0x10da77b38>"
      ]
     },
     "metadata": {},
     "output_type": "display_data"
    }
   ],
   "source": [
    "# Seaborn is one of the libraries used to make beautiful plots in python\n",
    "# There are many other libraries\n",
    "\n",
    "import seaborn as sns\n",
    "sns.heatmap(example_pixel_map, cmap=\"gray\", linewidths=.005)"
   ]
  },
  {
   "cell_type": "markdown",
   "metadata": {},
   "source": [
    "### Pop quiz - \n",
    "What would be the dimension of a RGB color coded image represented as a matrix?"
   ]
  }
 ],
 "metadata": {
  "kernelspec": {
   "display_name": "Python 3",
   "language": "python",
   "name": "python3"
  },
  "language_info": {
   "codemirror_mode": {
    "name": "ipython",
    "version": 3
   },
   "file_extension": ".py",
   "mimetype": "text/x-python",
   "name": "python",
   "nbconvert_exporter": "python",
   "pygments_lexer": "ipython3",
   "version": "3.6.3"
  }
 },
 "nbformat": 4,
 "nbformat_minor": 2
}
