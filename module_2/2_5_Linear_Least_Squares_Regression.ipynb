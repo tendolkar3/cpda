{
 "cells": [
  {
   "cell_type": "markdown",
   "metadata": {},
   "source": [
    "# Linear Least Squares Regression"
   ]
  },
  {
   "cell_type": "markdown",
   "metadata": {},
   "source": [
    "Lets plot the data along with this code and see if we can fit a straight line that can approximate the data"
   ]
  },
  {
   "cell_type": "code",
   "execution_count": 73,
   "metadata": {},
   "outputs": [
    {
     "data": {
      "text/plain": [
       "Text(0,0.5,'Y')"
      ]
     },
     "execution_count": 73,
     "metadata": {},
     "output_type": "execute_result"
    },
    {
     "data": {
      "image/png": "[encoded data removed]",
      "text/plain": [
       "<matplotlib.figure.Figure at 0x10a37df98>"
      ]
     },
     "metadata": {},
     "output_type": "display_data"
    }
   ],
   "source": [
    "import csv\n",
    "import matplotlib.pyplot as plt\n",
    "%matplotlib inline\n",
    "\n",
    "y_raw = []\n",
    "x_raw = []\n",
    "\n",
    "with open('linear_regression_data.csv', newline='') as f:\n",
    "    reader = csv.reader(f)\n",
    "    header = True\n",
    "    for row in reader:\n",
    "        if header:\n",
    "            header = False\n",
    "            continue\n",
    "        x_raw.append(float(row[0]))\n",
    "        y_raw.append(float(row[1]))\n",
    "        \n",
    "plt.scatter(x_raw,y_raw)\n",
    "plt.title(\"Data\")\n",
    "plt.xlabel(\"X\")\n",
    "plt.ylabel(\"Y\")"
   ]
  },
  {
   "cell_type": "markdown",
   "metadata": {},
   "source": [
    "Now lets use gradient descent to minimize our objective function. This is the same code used in gradient descent section with some additional fucntions for animations for visualization. Remember that here, x and y are given points and fixed. BETA IS OUR VARIABLE"
   ]
  },
  {
   "cell_type": "code",
   "execution_count": 74,
   "metadata": {
    "scrolled": false
   },
   "outputs": [
    {
     "name": "stdout",
     "output_type": "stream",
     "text": [
      "At step 50 beta - [[ 0.09779588]\n",
      " [ 0.87430546]] f(beta) - [[ 2817.10825772]]\n",
      "At step 100 beta - [[-0.13509192]\n",
      " [ 0.87689394]] f(beta) - [[ 2805.47022986]]\n",
      "Optimal beta - [[-0.13509192]\n",
      " [ 0.87689394]]\n"
     ]
    }
   ],
   "source": [
    "import numpy as np\n",
    "\n",
    "y = np.matrix(y_raw).T\n",
    "x = np.matrix(x_raw).T\n",
    "ones = np.ones((x.shape[0],1))\n",
    "x = np.concatenate((ones, x), axis=1)\n",
    "\n",
    "def animate(i):\n",
    "    line.set_ydata(np.sin(x + i/10.0))  # update the data\n",
    "    return line,\n",
    "\n",
    "# Our function was f(beta) = (Y - beta.X)^T.(Y - beta.X)\n",
    "def f(beta_k):\n",
    "    return np.matmul(np.subtract(y,np.matmul(x,beta_k)).T,np.subtract(y,np.matmul(x,beta_k)))\n",
    "\n",
    "# Gradient is -2*x^T.(Y - beta.X)\n",
    "def gradient(beta_k): \n",
    "    return +2*(np.matmul(-x.T,np.subtract(y,np.matmul(x,beta_k))))\n",
    "\n",
    "# d_k is direction of descent = -D*gradient(at beta_k) where D is positive definite matrix\n",
    "def d_k(beta_k, D=None):\n",
    "    D=np.eye(len(beta_k))\n",
    "    return -np.matmul(D,gradient(beta_k))\n",
    "\n",
    "# If you do not get this, ignore it. Just assume that it gives a constant value = c which is alphe\n",
    "def constant_alpha(c): \n",
    "    def alpha(k,x):\n",
    "        return c \n",
    "    return alpha\n",
    "\n",
    "# The train methos on GradientDescent does the actual work of descending in direction of gradient\n",
    "class GradientDescent:\n",
    "    def __init__(self, D=1):\n",
    "        self.D = D # We set D to be an identity matrix. Whats its dimension?\n",
    "    \n",
    "    def train(self, f, d_k, beta_0, alpha=constant_alpha(0.0001), epsilon=1e-8, max_iterations=100):\n",
    "        # Ignore this mumbo jumbo\n",
    "        step = 1\n",
    "        beta = beta_0\n",
    "        fbeta = f(beta_0)\n",
    "        fbeta_prev = f(beta_0) - 1\n",
    "        fbeta_history = [f(beta_0)]\n",
    "        beta_history = [beta_0]\n",
    "        while (fbeta[0][0] - fbeta_prev[0][0]) >= epsilon or step <= max_iterations:\n",
    "            beta_new = beta + alpha(step,beta)*d_k(beta, self.D) # This is the main step\n",
    "            # beta_(k+1) = beta_k + alpha_k*[-D*gradient(at beta_k)]\n",
    "            fbeta_prev = fbeta\n",
    "            fbeta = f(beta_new)\n",
    "            if step%50 == 0:\n",
    "                print(\"At step\",step,\"beta -\",beta_new,\"f(beta) -\",fbeta)\n",
    "            beta_history.append(beta_new)\n",
    "            beta=beta_new\n",
    "            fbeta_history.append(fbeta)\n",
    "            step+=1\n",
    "        return beta, beta_history, fbeta_history\n",
    "\n",
    "def animate(beta_k):\n",
    "    print(beta_k)\n",
    "    line.set_ydata(np.add(x*beta_k[1],beta_k[0]))  # update the data\n",
    "    return line,\n",
    "\n",
    "def init():\n",
    "    line.set_ydata(np.ma.array(plot_x, mask=True))\n",
    "    return line,\n",
    "    \n",
    "\n",
    "minimizer = GradientDescent(D = 1)\n",
    "beta_0 = np.matrix([[1], [10]])\n",
    "optimal_beta, beta_history, fbeta_history = minimizer.train(f, d_k, beta_0)\n",
    "print(\"Optimal beta -\",optimal_beta)"
   ]
  },
  {
   "cell_type": "markdown",
   "metadata": {},
   "source": [
    "We see that the optimal line is Y = -0.13509192 + 0.87689394*X\n",
    "\n",
    "Lets visualize it via an animation. Click play button on video below. It shows how the slope of line changes at each time step of gradient descent. If the video play option is not available in browser, use the file ```linear_regression_animation.mp4``` in the same folder"
   ]
  },
  {
   "cell_type": "code",
   "execution_count": 76,
   "metadata": {
    "scrolled": false
   },
   "outputs": [
    {
     "data": {
      "image/png": "[encoded data removed]",
      "text/plain": [
       "<matplotlib.figure.Figure at 0x10a8f4780>"
      ]
     },
     "metadata": {},
     "output_type": "display_data"
    }
   ],
   "source": [
    "%matplotlib inline\n",
    "import matplotlib.pyplot as plt\n",
    "from matplotlib import animation, rc\n",
    "from IPython.display import HTML\n",
    "rc('animation', html='html5')\n",
    "\n",
    "fig, ax = plt.subplots()\n",
    "\n",
    "plot_x = np.matrix(np.arange(-5, 5, 0.01)).T\n",
    "ones = np.ones((plot_x.shape[0],1))\n",
    "plot_x_w_ones = np.concatenate((ones, plot_x), axis=1)\n",
    "line, = ax.plot(plot_x, np.matmul(plot_x_w_ones,beta_history[0]),'g--')\n",
    "ax.scatter(x_raw,y_raw)\n",
    "ax.set_xlabel(\"X\")\n",
    "ax.set_ylabel(\"Y\")\n",
    "ax.set_title(\"Linear Least Squares Regression with Steepest Gradient Descent\") \n",
    "\n",
    "\n",
    "def animate(beta_k):\n",
    "    line.set_ydata(np.dot(plot_x_w_ones,beta_k))  # update the data\n",
    "    return line,\n",
    "\n",
    "\n",
    "# Init only required for blitting to give a clean slate.\n",
    "def init():\n",
    "    line.set_ydata(np.ma.array(np.arange(-10, 10, 0.01), mask=True))\n",
    "    return line,\n",
    "\n",
    "ani = animation.FuncAnimation(fig, animate, beta_history, init_func=init,\n",
    "                              interval=250, blit=True)\n",
    "\n",
    "HTML(ani.to_html5_video())\n",
    "ani.save('linear_regression_animation.mp4', codec='h264')"
   ]
  },
  {
   "cell_type": "markdown",
   "metadata": {},
   "source": [
    "Would you get the same result if you found the slope of the line with the equation given in the lecture? Try it"
   ]
  }
 ],
 "metadata": {
  "kernelspec": {
   "display_name": "Python 3",
   "language": "python",
   "name": "python3"
  },
  "language_info": {
   "codemirror_mode": {
    "name": "ipython",
    "version": 3
   },
   "file_extension": ".py",
   "mimetype": "text/x-python",
   "name": "python",
   "nbconvert_exporter": "python",
   "pygments_lexer": "ipython3",
   "version": "3.6.3"
  }
 },
 "nbformat": 4,
 "nbformat_minor": 2
}
